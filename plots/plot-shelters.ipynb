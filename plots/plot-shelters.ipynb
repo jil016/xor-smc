{
 "cells": [
  {
   "cell_type": "code",
   "execution_count": 68,
   "id": "a38f8f61-aeb0-4258-91e7-8bb249c7b283",
   "metadata": {},
   "outputs": [],
   "source": [
    "import seaborn as sns\n",
    "import pandas as pd\n",
    "import numpy as np\n",
    "%matplotlib inline\n",
    "import matplotlib.pyplot as plt\n",
    "from matplotlib import rc\n",
    "palette=['#ff3b30', '#007aff', '#4cd964','#ffcc00', '#5856d6', '#ff9500', '#5ac8fa']\n",
    "markers=['o', '^', '<', 'd', '*','2']\n",
    "sns.set_style(\"ticks\")\n",
    "import matplotlib as mpl\n",
    "mpl.rcParams['lines.markersize'] = 6\n",
    "mpl.rcParams['lines.linewidth']=1\n",
    "rc(\"font\", **{'family':'serif','serif':['Palatino'], 'size':12})\n",
    "rc('text', usetex=True)\n",
    "import os"
   ]
  },
  {
   "cell_type": "code",
   "execution_count": 71,
   "id": "6711c8e4-1a34-4da9-920a-db97ed69099c",
   "metadata": {},
   "outputs": [
    {
     "name": "stdout",
     "output_type": "stream",
     "text": [
      "   Graph Size           method      paths\n",
      "0     $n=121$          XOR-SMC        972\n",
      "1     $n=121$  GibbsSampler-LS        288\n",
      "2     $n=121$  QuickSampler-LS        864\n",
      "3     $n=121$        Unigen-LS        648\n",
      "4     $n=183$          XOR-SMC      25920\n",
      "5     $n=183$  GibbsSampler-LS      10368\n",
      "6     $n=183$  QuickSampler-LS      10368\n",
      "7     $n=183$        Unigen-LS       5184\n",
      "8     $n=388$          XOR-SMC  770943744\n",
      "9     $n=388$  GibbsSampler-LS   64245312\n",
      "10    $n=388$  QuickSampler-LS   64245312\n",
      "11    $n=388$        Unigen-LS   64245312\n"
     ]
    },
    {
     "data": {
      "image/png": "[encoded data removed]",
      "text/plain": [
       "<Figure size 450x250 with 1 Axes>"
      ]
     },
     "metadata": {},
     "output_type": "display_data"
    }
   ],
   "source": [
    "\n",
    "# df=pd.DataFrame({\"graph size\":['121', '183','246', '388','121', '183','246', '388','121', '183','246', '388','121', '183','246', '388'],\n",
    "#                  \"method\": ['xor', 'gibbs', 'quick', 'unigen', 'xor', 'gibbs', 'quick', 'unigen','xor', 'gibbs', 'quick', 'unigen','xor', 'gibbs', 'quick', 'unigen'],\n",
    "#                  \"paths\": [972, 288, 864, 648, 25920, 10368, 10368, 5184, 137151144, 151047342, 154117890, 154117890, 770943744, 64245312, 64245312, 64245312]\n",
    "#                  })\n",
    "df=pd.DataFrame({\"Graph Size\":[r'$n=121$', r'$n=121$',r'$n=121$',r'$n=121$', r'$n=183$',r'$n=183$', r'$n=183$',r'$n=183$',  r'$n=388$',r'$n=388$',r'$n=388$',r'$n=388$'],\n",
    "                 \"method\": ['XOR-SMC', 'GibbsSampler-LS', 'QuickSampler-LS', 'Unigen-LS', 'XOR-SMC', 'GibbsSampler-LS', 'QuickSampler-LS', 'Unigen-LS','XOR-SMC', 'GibbsSampler-LS', 'QuickSampler-LS', 'Unigen-LS'],\n",
    "                 \"paths\": [972, 288, 864, 648, 25920, 10368, 10368, 5184, 770943744, 64245312, 64245312, 64245312]\n",
    "                 })\n",
    "print(df)\n",
    "plt.figure(figsize=(4.5,2.5))\n",
    "ax=sns.barplot(data=df, y=\"paths\", x=\"Graph Size\", hue='method',\n",
    "                   width=0.5, palette=palette)\n",
    "plt.legend(bbox_to_anchor=(0.01, 1), loc='upper left',ncol = 1, borderaxespad=0,facecolor=None,framealpha=0.5,)\n",
    "# if show_title==True:\n",
    "#         ax.set_title(title, fontsize=16)\n",
    "plt.yscale('log')\n",
    "ax.set(ylabel=\"\\# Paths identified\", xlabel=r\"Graph Size ($N$)\")\n",
    "\n",
    "fname =\"shelter_path.pdf\" #os.path.join(basepath, name+\"_metric.pdf\")\n",
    "plt.savefig(fname, bbox_inches='tight', pad_inches=0)"
   ]
  },
  {
   "cell_type": "code",
   "execution_count": 20,
   "id": "48f8255f-d5c7-469b-9f7f-7bdb2d7786d9",
   "metadata": {},
   "outputs": [
    {
     "data": {
      "text/plain": [
       "0      Adelie\n",
       "1      Adelie\n",
       "2      Adelie\n",
       "3      Adelie\n",
       "4      Adelie\n",
       "        ...  \n",
       "339    Gentoo\n",
       "340    Gentoo\n",
       "341    Gentoo\n",
       "342    Gentoo\n",
       "343    Gentoo\n",
       "Name: species, Length: 344, dtype: object"
      ]
     },
     "execution_count": 20,
     "metadata": {},
     "output_type": "execute_result"
    }
   ],
   "source": [
    "penguins = sns.load_dataset(\"penguins\")\n",
    "penguins['species']"
   ]
  },
  {
   "cell_type": "code",
   "execution_count": 4,
   "id": "97df74e7-d5df-42d8-9073-75a776b233ed",
   "metadata": {},
   "outputs": [],
   "source": [
    "#hawaii121-xor-gibbs-quick-unigen\n",
    "\n",
    "#hawaii246-xor-gibbs-quick-unigen\n",
    "#137151144, 151047342, 154117890, 154117890\n",
    "\n",
    "#hawaii388-xor-gibbs-quick-unigen\n",
    "#770943744, 64245312, 64245312, 64245312"
   ]
  },
  {
   "cell_type": "code",
   "execution_count": 5,
   "id": "b2a4ca58",
   "metadata": {},
   "outputs": [
    {
     "name": "stdout",
     "output_type": "stream",
     "text": [
      "        121    183        246        388\n",
      "xor     972  25920  137151144  770943744\n",
      "gibbs   288  10368  151047342   64245312\n",
      "quick   864  10368  154117890   64245312\n",
      "unigen  648   5184  154117890   64245312\n"
     ]
    }
   ],
   "source": []
  },
  {
   "cell_type": "code",
   "execution_count": 6,
   "id": "372f0dd9",
   "metadata": {},
   "outputs": [
    {
     "data": {
      "text/html": [
       "<div>\n",
       "<style scoped>\n",
       "    .dataframe tbody tr th:only-of-type {\n",
       "        vertical-align: middle;\n",
       "    }\n",
       "\n",
       "    .dataframe tbody tr th {\n",
       "        vertical-align: top;\n",
       "    }\n",
       "\n",
       "    .dataframe thead th {\n",
       "        text-align: right;\n",
       "    }\n",
       "</style>\n",
       "<table border=\"1\" class=\"dataframe\">\n",
       "  <thead>\n",
       "    <tr style=\"text-align: right;\">\n",
       "      <th></th>\n",
       "      <th>121</th>\n",
       "      <th>183</th>\n",
       "      <th>246</th>\n",
       "      <th>388</th>\n",
       "    </tr>\n",
       "  </thead>\n",
       "  <tbody>\n",
       "    <tr>\n",
       "      <th>xor</th>\n",
       "      <td>972</td>\n",
       "      <td>25920</td>\n",
       "      <td>137151144</td>\n",
       "      <td>770943744</td>\n",
       "    </tr>\n",
       "    <tr>\n",
       "      <th>gibbs</th>\n",
       "      <td>288</td>\n",
       "      <td>10368</td>\n",
       "      <td>151047342</td>\n",
       "      <td>64245312</td>\n",
       "    </tr>\n",
       "    <tr>\n",
       "      <th>quick</th>\n",
       "      <td>864</td>\n",
       "      <td>10368</td>\n",
       "      <td>154117890</td>\n",
       "      <td>64245312</td>\n",
       "    </tr>\n",
       "    <tr>\n",
       "      <th>unigen</th>\n",
       "      <td>648</td>\n",
       "      <td>5184</td>\n",
       "      <td>154117890</td>\n",
       "      <td>64245312</td>\n",
       "    </tr>\n",
       "  </tbody>\n",
       "</table>\n",
       "</div>"
      ],
      "text/plain": [
       "        121    183        246        388\n",
       "xor     972  25920  137151144  770943744\n",
       "gibbs   288  10368  151047342   64245312\n",
       "quick   864  10368  154117890   64245312\n",
       "unigen  648   5184  154117890   64245312"
      ]
     },
     "execution_count": 6,
     "metadata": {},
     "output_type": "execute_result"
    }
   ],
   "source": [
    "df.head()"
   ]
  },
  {
   "cell_type": "code",
   "execution_count": 29,
   "id": "57a51b60",
   "metadata": {},
   "outputs": [
    {
     "data": {
      "text/plain": [
       "<Axes: xlabel='graph size', ylabel='paths'>"
      ]
     },
     "execution_count": 29,
     "metadata": {},
     "output_type": "execute_result"
    },
    {
     "data": {
      "image/png": "[encoded data removed]",
      "text/plain": [
       "<Figure size 640x480 with 1 Axes>"
      ]
     },
     "metadata": {},
     "output_type": "display_data"
    }
   ],
   "source": [
    "sns.barplot(data=df, y=\"paths\", x=\"graph size\", hue='method')"
   ]
  },
  {
   "cell_type": "code",
   "execution_count": 27,
   "id": "69d3fa21",
   "metadata": {},
   "outputs": [
    {
     "name": "stderr",
     "output_type": "stream",
     "text": [
      "/Users/jiangnanhugo/miniconda3/lib/python3.10/site-packages/seaborn/axisgrid.py:118: UserWarning: The figure layout has changed to tight\n",
      "  self._figure.tight_layout(*args, **kwargs)\n"
     ]
    },
    {
     "data": {
      "image/png": "[encoded data removed]",
      "text/plain": [
       "<Figure size 629.916x500 with 1 Axes>"
      ]
     },
     "metadata": {},
     "output_type": "display_data"
    }
   ],
   "source": [
    "penguins = sns.load_dataset(\"penguins\")\n",
    "\n",
    "# Draw a nested barplot by species and sex\n",
    "g = sns.catplot(\n",
    "    data=df, kind=\"bar\",\n",
    "    x=\"graph size\", y=\"paths\", hue=\"method\",\n",
    "    errorbar=None\n",
    ")"
   ]
  },
  {
   "cell_type": "code",
   "execution_count": null,
   "id": "5351832e",
   "metadata": {},
   "outputs": [],
   "source": []
  },
  {
   "cell_type": "code",
   "execution_count": 28,
   "id": "3b77ce69",
   "metadata": {},
   "outputs": [
    {
     "data": {
      "text/html": [
       "<div>\n",
       "<style scoped>\n",
       "    .dataframe tbody tr th:only-of-type {\n",
       "        vertical-align: middle;\n",
       "    }\n",
       "\n",
       "    .dataframe tbody tr th {\n",
       "        vertical-align: top;\n",
       "    }\n",
       "\n",
       "    .dataframe thead th {\n",
       "        text-align: right;\n",
       "    }\n",
       "</style>\n",
       "<table border=\"1\" class=\"dataframe\">\n",
       "  <thead>\n",
       "    <tr style=\"text-align: right;\">\n",
       "      <th></th>\n",
       "      <th>graph size</th>\n",
       "      <th>method</th>\n",
       "      <th>paths</th>\n",
       "    </tr>\n",
       "  </thead>\n",
       "  <tbody>\n",
       "    <tr>\n",
       "      <th>0</th>\n",
       "      <td>121</td>\n",
       "      <td>xor</td>\n",
       "      <td>972</td>\n",
       "    </tr>\n",
       "    <tr>\n",
       "      <th>1</th>\n",
       "      <td>183</td>\n",
       "      <td>gibbs</td>\n",
       "      <td>288</td>\n",
       "    </tr>\n",
       "    <tr>\n",
       "      <th>2</th>\n",
       "      <td>246</td>\n",
       "      <td>quick</td>\n",
       "      <td>864</td>\n",
       "    </tr>\n",
       "    <tr>\n",
       "      <th>3</th>\n",
       "      <td>388</td>\n",
       "      <td>unigen</td>\n",
       "      <td>648</td>\n",
       "    </tr>\n",
       "    <tr>\n",
       "      <th>4</th>\n",
       "      <td>121</td>\n",
       "      <td>xor</td>\n",
       "      <td>25920</td>\n",
       "    </tr>\n",
       "    <tr>\n",
       "      <th>5</th>\n",
       "      <td>183</td>\n",
       "      <td>gibbs</td>\n",
       "      <td>10368</td>\n",
       "    </tr>\n",
       "    <tr>\n",
       "      <th>6</th>\n",
       "      <td>246</td>\n",
       "      <td>quick</td>\n",
       "      <td>10368</td>\n",
       "    </tr>\n",
       "    <tr>\n",
       "      <th>7</th>\n",
       "      <td>388</td>\n",
       "      <td>unigen</td>\n",
       "      <td>5184</td>\n",
       "    </tr>\n",
       "    <tr>\n",
       "      <th>8</th>\n",
       "      <td>121</td>\n",
       "      <td>xor</td>\n",
       "      <td>137151144</td>\n",
       "    </tr>\n",
       "    <tr>\n",
       "      <th>9</th>\n",
       "      <td>183</td>\n",
       "      <td>gibbs</td>\n",
       "      <td>151047342</td>\n",
       "    </tr>\n",
       "    <tr>\n",
       "      <th>10</th>\n",
       "      <td>246</td>\n",
       "      <td>quick</td>\n",
       "      <td>154117890</td>\n",
       "    </tr>\n",
       "    <tr>\n",
       "      <th>11</th>\n",
       "      <td>388</td>\n",
       "      <td>unigen</td>\n",
       "      <td>154117890</td>\n",
       "    </tr>\n",
       "    <tr>\n",
       "      <th>12</th>\n",
       "      <td>121</td>\n",
       "      <td>xor</td>\n",
       "      <td>770943744</td>\n",
       "    </tr>\n",
       "    <tr>\n",
       "      <th>13</th>\n",
       "      <td>183</td>\n",
       "      <td>gibbs</td>\n",
       "      <td>64245312</td>\n",
       "    </tr>\n",
       "    <tr>\n",
       "      <th>14</th>\n",
       "      <td>246</td>\n",
       "      <td>quick</td>\n",
       "      <td>64245312</td>\n",
       "    </tr>\n",
       "    <tr>\n",
       "      <th>15</th>\n",
       "      <td>388</td>\n",
       "      <td>unigen</td>\n",
       "      <td>64245312</td>\n",
       "    </tr>\n",
       "  </tbody>\n",
       "</table>\n",
       "</div>"
      ],
      "text/plain": [
       "   graph size  method      paths\n",
       "0         121     xor        972\n",
       "1         183   gibbs        288\n",
       "2         246   quick        864\n",
       "3         388  unigen        648\n",
       "4         121     xor      25920\n",
       "5         183   gibbs      10368\n",
       "6         246   quick      10368\n",
       "7         388  unigen       5184\n",
       "8         121     xor  137151144\n",
       "9         183   gibbs  151047342\n",
       "10        246   quick  154117890\n",
       "11        388  unigen  154117890\n",
       "12        121     xor  770943744\n",
       "13        183   gibbs   64245312\n",
       "14        246   quick   64245312\n",
       "15        388  unigen   64245312"
      ]
     },
     "execution_count": 28,
     "metadata": {},
     "output_type": "execute_result"
    }
   ],
   "source": [
    "df"
   ]
  },
  {
   "cell_type": "code",
   "execution_count": 40,
   "id": "d9724bb3",
   "metadata": {},
   "outputs": [
    {
     "data": {
      "text/plain": [
       "16"
      ]
     },
     "execution_count": 40,
     "metadata": {},
     "output_type": "execute_result"
    }
   ],
   "source": [
    "len(ax.lines)"
   ]
  },
  {
   "cell_type": "code",
   "execution_count": null,
   "id": "c89b4dcc",
   "metadata": {},
   "outputs": [],
   "source": []
  }
 ],
 "metadata": {
  "kernelspec": {
   "display_name": "Python 3 (ipykernel)",
   "language": "python",
   "name": "python3"
  },
  "language_info": {
   "codemirror_mode": {
    "name": "ipython",
    "version": 3
   },
   "file_extension": ".py",
   "mimetype": "text/x-python",
   "name": "python",
   "nbconvert_exporter": "python",
   "pygments_lexer": "ipython3",
   "version": "3.10.10"
  }
 },
 "nbformat": 4,
 "nbformat_minor": 5
}
