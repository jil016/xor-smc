{
 "cells": [
  {
   "cell_type": "code",
   "execution_count": 6,
   "metadata": {},
   "outputs": [
    {
     "name": "stdout",
     "output_type": "stream",
     "text": [
      "55\n",
      "110\n"
     ]
    }
   ],
   "source": [
    "import numpy as np\n",
    "\n",
    "FibArray = [0, 1]\n",
    " \n",
    "def fibonacci(n):\n",
    "   \n",
    "    # Check is n is less\n",
    "    # than 0\n",
    "    if n < 0:\n",
    "        print(\"Incorrect input\")\n",
    "         \n",
    "    # Check is n is less\n",
    "    # than len(FibArray)\n",
    "    elif n < len(FibArray):\n",
    "        return FibArray[n]\n",
    "    else:       \n",
    "        FibArray.append(fibonacci(n - 1) + fibonacci(n - 2))\n",
    "        return FibArray[n]\n",
    " \n",
    "# Driver Program\n",
    "fb = fibonacci(10)\n",
    "print(fb)\n",
    "\n",
    "\n",
    "fb = fibonacci(10) + fibonacci(9) + fibonacci(8)\n",
    "print(fb)\n",
    "\n",
    "fb_np = np.int64(fb)\n",
    "print(np.log2(fb_np))"
   ]
  }
 ],
 "metadata": {
  "kernelspec": {
   "display_name": "xor-lrt",
   "language": "python",
   "name": "python3"
  },
  "language_info": {
   "codemirror_mode": {
    "name": "ipython",
    "version": 3
   },
   "file_extension": ".py",
   "mimetype": "text/x-python",
   "name": "python",
   "nbconvert_exporter": "python",
   "pygments_lexer": "ipython3",
   "version": "3.9.17"
  },
  "orig_nbformat": 4
 },
 "nbformat": 4,
 "nbformat_minor": 2
}
