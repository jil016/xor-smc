{
 "cells": [
  {
   "cell_type": "code",
   "execution_count": 1,
   "id": "a38f8f61-aeb0-4258-91e7-8bb249c7b283",
   "metadata": {},
   "outputs": [],
   "source": [
    "import seaborn as sns\n",
    "import pandas as pd\n",
    "import numpy as np\n",
    "%matplotlib inline\n",
    "import matplotlib.pyplot as plt\n",
    "from matplotlib import rc\n",
    "palette=['#ff3b30', '#007aff', '#4cd964','#ffcc00', '#5856d6', '#ff9500', '#5ac8fa']\n",
    "markers=['o', '^', '<', 'd', '*','2']\n",
    "sns.set_style(\"ticks\")\n",
    "import matplotlib as mpl\n",
    "mpl.rcParams['lines.markersize'] = 6\n",
    "mpl.rcParams['lines.linewidth']=1\n",
    "rc(\"font\", **{'family':'serif','serif':['Palatino'], 'size':14})\n",
    "rc('text', usetex=True)\n",
    "import os"
   ]
  },
  {
   "cell_type": "code",
   "execution_count": 2,
   "id": "6711c8e4-1a34-4da9-920a-db97ed69099c",
   "metadata": {},
   "outputs": [
    {
     "data": {
      "image/png": "[encoded data removed]",
      "text/plain": [
       "<Figure size 450x250 with 1 Axes>"
      ]
     },
     "metadata": {},
     "output_type": "display_data"
    }
   ],
   "source": [
    "xor_smc=[100, 90, 90, 80]\n",
    "exact_solver1=[100,100,0,0]\n",
    "exact_solver2=[100,100,0,0]\n",
    "df=pd.DataFrame({\n",
    "        \"rate\": xor_smc+exact_solver1+exact_solver2,\n",
    "        \"task\":[r'Task $T_1$', r'Task $\\overline{T_1}$',r'Task $T_2$',r'Task $\\overline{T_2}$']*3,\n",
    "        \"type\": ['XOR SMC (ours)']*4+['exact solver 1']*4+['exact solver 2']*4,\n",
    "    })\n",
    "plt.figure(figsize=(4.5,2.5))\n",
    "ax=sns.barplot(data=df, y=\"rate\", x=\"task\", hue='type',\n",
    "                   # showfliers=True, \n",
    "                   width=0.5, palette=palette)\n",
    "plt.legend(bbox_to_anchor=(1.02, 1), loc='upper left', borderaxespad=0)\n",
    "# if show_title==True:\n",
    "#         ax.set_title(title, fontsize=16)\n",
    "    \n",
    "ax.set(ylabel=\"Success Rate (\\%)\", xlabel=\"\")\n",
    "\n",
    "fname =\"shelter_example1.pdf\" #os.path.join(basepath, name+\"_metric.pdf\")\n",
    "plt.savefig(fname, bbox_inches='tight', pad_inches=0)"
   ]
  },
  {
   "cell_type": "code",
   "execution_count": 20,
   "id": "48f8255f-d5c7-469b-9f7f-7bdb2d7786d9",
   "metadata": {},
   "outputs": [
    {
     "data": {
      "text/plain": [
       "0      Adelie\n",
       "1      Adelie\n",
       "2      Adelie\n",
       "3      Adelie\n",
       "4      Adelie\n",
       "        ...  \n",
       "339    Gentoo\n",
       "340    Gentoo\n",
       "341    Gentoo\n",
       "342    Gentoo\n",
       "343    Gentoo\n",
       "Name: species, Length: 344, dtype: object"
      ]
     },
     "execution_count": 20,
     "metadata": {},
     "output_type": "execute_result"
    }
   ],
   "source": [
    "penguins = sns.load_dataset(\"penguins\")\n",
    "penguins['species']"
   ]
  },
  {
   "cell_type": "code",
   "execution_count": null,
   "id": "97df74e7-d5df-42d8-9073-75a776b233ed",
   "metadata": {},
   "outputs": [],
   "source": []
  }
 ],
 "metadata": {
  "kernelspec": {
   "display_name": "Python 3 (ipykernel)",
   "language": "python",
   "name": "python3"
  },
  "language_info": {
   "codemirror_mode": {
    "name": "ipython",
    "version": 3
   },
   "file_extension": ".py",
   "mimetype": "text/x-python",
   "name": "python",
   "nbconvert_exporter": "python",
   "pygments_lexer": "ipython3",
   "version": "3.9.17"
  }
 },
 "nbformat": 4,
 "nbformat_minor": 5
}
