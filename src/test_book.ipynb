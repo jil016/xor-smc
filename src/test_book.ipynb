{
 "cells": [
  {
   "cell_type": "code",
   "execution_count": null,
   "metadata": {},
   "outputs": [],
   "source": [
    "import boolexpr as bx\n",
    "\n",
    "ctx = bx.Context()\n",
    "\n",
    "a = ctx.get_var(f'a')\n",
    "b = ctx.get_var(f'b')\n",
    "c = ctx.get_var(f'c')\n",
    "one = bx.ONE\n",
    "zero = bx.ZERO\n",
    "\n",
    "one_ = 1\n",
    "\n",
    "print(bx.xor(a,b).sat())\n",
    "\n",
    "print(bx.xor(a,one).sat())\n",
    "print(bx.xor(a,one_).sat())\n",
    "\n",
    "print(bx.eq(one,bx.not_(0)).sat())\n",
    "\n",
    "print(bx.majority(a,b,c))"
   ]
  },
  {
   "cell_type": "code",
   "execution_count": null,
   "metadata": {},
   "outputs": [],
   "source": [
    "from sympy import *\n",
    "from graph import Graph\n",
    "from sympy.logic.boolalg import is_cnf, is_dnf\n",
    "\n",
    "N = 4\n",
    "g = Graph(N, 'full', 'false')\n",
    "\n",
    "x_e = [[Symbol(f'x{i}_{j}') for j in range(N)] for i in range(N)]\n",
    "\n",
    "# x_e = [[0,1,0,0],\n",
    "#         [0,0,1,0],\n",
    "#         [0,0,0,1],\n",
    "#         [0,0,0,0]] # flow from 0->1->2->3\n",
    "\n",
    "\n",
    "tgt = [Symbol(f't{i}') for i in range(N)]\n",
    "src = 0\n",
    "\n",
    "# src input sums to zero, in form of CNF/DNF: ~x1 & ~x2 & ...\n",
    "const_src_in = True\n",
    "for i in range(N):\n",
    "    if (g.Adj[i][src] == 1):\n",
    "        const_src_in = And(const_src_in, Not(x_e[i][src]))\n",
    "\n",
    "\n",
    "# src output sums to one\n",
    "edges = []\n",
    "const_src_out = []\n",
    "for i in range(N):\n",
    "    if (g.Adj[src][i] == 1):\n",
    "        edges.append(x_e[src][i])\n",
    "\n",
    "for e in edges:\n",
    "    clauses.append()\n",
    "\n"
   ]
  },
  {
   "cell_type": "code",
   "execution_count": 3,
   "metadata": {},
   "outputs": [
    {
     "data": {
      "text/plain": [
       "[[0, 1, 1, 1, 0, 0, 0, 0],\n",
       " [0, 0, 1, 1, 1, 0, 0, 0],\n",
       " [0, 0, 0, 1, 1, 1, 0, 0],\n",
       " [0, 0, 0, 0, 1, 1, 1, 0],\n",
       " [0, 0, 0, 0, 0, 1, 1, 1],\n",
       " [0, 0, 0, 0, 0, 0, 1, 1],\n",
       " [0, 0, 0, 0, 0, 0, 0, 1],\n",
       " [0, 0, 0, 0, 0, 0, 0, 0]]"
      ]
     },
     "execution_count": 3,
     "metadata": {},
     "output_type": "execute_result"
    }
   ],
   "source": [
    "from graph import Graph\n",
    "\n",
    "g = Graph(8, '3', 'false')\n",
    "\n",
    "g.Adj"
   ]
  }
 ],
 "metadata": {
  "kernelspec": {
   "display_name": "xor-lrt",
   "language": "python",
   "name": "python3"
  },
  "language_info": {
   "codemirror_mode": {
    "name": "ipython",
    "version": 3
   },
   "file_extension": ".py",
   "mimetype": "text/x-python",
   "name": "python",
   "nbconvert_exporter": "python",
   "pygments_lexer": "ipython3",
   "version": "3.9.17"
  },
  "orig_nbformat": 4
 },
 "nbformat": 4,
 "nbformat_minor": 2
}
