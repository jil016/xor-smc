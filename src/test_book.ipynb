{
 "cells": [
  {
   "cell_type": "code",
   "execution_count": 1,
   "metadata": {},
   "outputs": [
    {
     "name": "stdout",
     "output_type": "stream",
     "text": [
      "4\n",
      "[0 1 2 3]\n",
      "[[0], [1], [2], [3], [4]]\n",
      "[[0, 0, 0, 1, 1], [0, 0, 0, 1, 0], [0, 0, 0, 0, 0], [0, 0, 0, 0, 1], [0, 0, 0, 0, 0]]\n",
      "4\n"
     ]
    }
   ],
   "source": [
    "import numpy as np\n",
    "\n",
    "N = 5\n",
    "\n",
    "Adj = [[0 for j in range(N)] for i in range(N)]\n",
    "\n",
    "idx = [i for i in range(N)]\n",
    "n_hierarchy = np.random.randint(low=0, high=N)\n",
    "\n",
    "perm = np.random.permutation(idx[:N-1])[:n_hierarchy]\n",
    "perm = np.sort(perm)\n",
    "\n",
    "hierarchies = []\n",
    "\n",
    "l = 0\n",
    "for p in perm:\n",
    "    hierarchies.append(idx[l:p+1])\n",
    "    l = p+1\n",
    "hierarchies.append(idx[l:])\n",
    "\n",
    "for hierarchy in hierarchies:\n",
    "    for u in hierarchy:\n",
    "        if (hierarchy[-1] != N - 1):\n",
    "            for v in idx[hierarchy[-1] + 1:]:\n",
    "                Adj[u][v] = np.random.randint(low=0, high=2)\n",
    "\n",
    "M =np.sum(Adj)\n",
    "\n",
    "print(n_hierarchy)\n",
    "print(perm)\n",
    "print(hierarchies)\n",
    "print(Adj)\n",
    "print(M)\n",
    "\n"
   ]
  },
  {
   "cell_type": "code",
   "execution_count": 11,
   "metadata": {},
   "outputs": [
    {
     "name": "stdout",
     "output_type": "stream",
     "text": [
      "(True, {a: 0, b: 1})\n",
      "(True, {a: 0})\n",
      "(True, {a: 0})\n",
      "(True, {})\n",
      "And(Or(a, b), Or(a, c), Or(b, c))\n"
     ]
    }
   ],
   "source": [
    "import boolexpr as bx\n",
    "\n",
    "ctx = bx.Context()\n",
    "\n",
    "a = ctx.get_var(f'a')\n",
    "b = ctx.get_var(f'b')\n",
    "c = ctx.get_var(f'c')\n",
    "one = bx.ONE\n",
    "zero = bx.ZERO\n",
    "\n",
    "one_ = 1\n",
    "\n",
    "print(bx.xor(a,b).sat())\n",
    "\n",
    "print(bx.xor(a,one).sat())\n",
    "print(bx.xor(a,one_).sat())\n",
    "\n",
    "print(bx.eq(one,bx.not_(0)).sat())\n",
    "\n",
    "print(bx.majority(a,b,c))"
   ]
  },
  {
   "cell_type": "code",
   "execution_count": 9,
   "metadata": {},
   "outputs": [
    {
     "name": "stdout",
     "output_type": "stream",
     "text": [
      "And(1, 1)\n",
      "(True, {})\n"
     ]
    }
   ],
   "source": [
    "from utils_bx import *\n",
    "ctx = bx.Context()\n",
    "a = [bx.ONE]\n",
    "b = [bx.ONE]\n",
    "res = bin_add_int(a,b)\n",
    "\n",
    "res = bit_geq(a[0],b[0])\n",
    "print(res)\n",
    "print(res.sat())"
   ]
  }
 ],
 "metadata": {
  "kernelspec": {
   "display_name": "xor-lrt",
   "language": "python",
   "name": "python3"
  },
  "language_info": {
   "codemirror_mode": {
    "name": "ipython",
    "version": 3
   },
   "file_extension": ".py",
   "mimetype": "text/x-python",
   "name": "python",
   "nbconvert_exporter": "python",
   "pygments_lexer": "ipython3",
   "version": "3.9.17"
  },
  "orig_nbformat": 4
 },
 "nbformat": 4,
 "nbformat_minor": 2
}
