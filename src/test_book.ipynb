{
 "cells": [
  {
   "cell_type": "code",
   "execution_count": 32,
   "metadata": {},
   "outputs": [
    {
     "name": "stdout",
     "output_type": "stream",
     "text": [
      "[[0, 1], [0, 1]]\n",
      "[3 2 1 4]\n",
      "8\n"
     ]
    }
   ],
   "source": [
    "import numpy as np\n",
    "from math import comb\n",
    "\n",
    "Adj = np.random.randint(low=0, high=2, size=(2,2), dtype=int).tolist()\n",
    "\n",
    "print(Adj)\n",
    "\n",
    "n_hierarchy = np.random.randint(low=1, high=10)\n",
    "\n",
    "\n",
    "import random\n",
    "\n",
    "letters = [1, 2, 3, 4]\n",
    "perm = np.random.permutation(letters)\n",
    "\n",
    "print(perm)\n",
    "print(n_hierarchy)\n"
   ]
  }
 ],
 "metadata": {
  "kernelspec": {
   "display_name": "xor-lrt",
   "language": "python",
   "name": "python3"
  },
  "language_info": {
   "codemirror_mode": {
    "name": "ipython",
    "version": 3
   },
   "file_extension": ".py",
   "mimetype": "text/x-python",
   "name": "python",
   "nbconvert_exporter": "python",
   "pygments_lexer": "ipython3",
   "version": "3.9.17"
  },
  "orig_nbformat": 4
 },
 "nbformat": 4,
 "nbformat_minor": 2
}
