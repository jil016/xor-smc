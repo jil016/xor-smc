{
 "cells": [
  {
   "cell_type": "code",
   "execution_count": 1,
   "metadata": {},
   "outputs": [
    {
     "name": "stdout",
     "output_type": "stream",
     "text": [
      "4\n",
      "[0 1 2 3]\n",
      "[[0], [1], [2], [3], [4]]\n",
      "[[0, 0, 0, 1, 1], [0, 0, 0, 1, 0], [0, 0, 0, 0, 0], [0, 0, 0, 0, 1], [0, 0, 0, 0, 0]]\n",
      "4\n"
     ]
    }
   ],
   "source": [
    "import numpy as np\n",
    "\n",
    "N = 5\n",
    "\n",
    "Adj = [[0 for j in range(N)] for i in range(N)]\n",
    "\n",
    "idx = [i for i in range(N)]\n",
    "n_hierarchy = np.random.randint(low=0, high=N)\n",
    "\n",
    "perm = np.random.permutation(idx[:N-1])[:n_hierarchy]\n",
    "perm = np.sort(perm)\n",
    "\n",
    "hierarchies = []\n",
    "\n",
    "l = 0\n",
    "for p in perm:\n",
    "    hierarchies.append(idx[l:p+1])\n",
    "    l = p+1\n",
    "hierarchies.append(idx[l:])\n",
    "\n",
    "for hierarchy in hierarchies:\n",
    "    for u in hierarchy:\n",
    "        if (hierarchy[-1] != N - 1):\n",
    "            for v in idx[hierarchy[-1] + 1:]:\n",
    "                Adj[u][v] = np.random.randint(low=0, high=2)\n",
    "\n",
    "M =np.sum(Adj)\n",
    "\n",
    "print(n_hierarchy)\n",
    "print(perm)\n",
    "print(hierarchies)\n",
    "print(Adj)\n",
    "print(M)\n",
    "\n"
   ]
  },
  {
   "cell_type": "code",
   "execution_count": 7,
   "metadata": {},
   "outputs": [
    {
     "name": "stdout",
     "output_type": "stream",
     "text": [
      "True\n"
     ]
    }
   ],
   "source": [
    "import numpy as np\n",
    "from sympy import *\n",
    "from shelter_location import *\n",
    "from utils import *\n",
    "\n",
    "\n"
   ]
  },
  {
   "cell_type": "code",
   "execution_count": null,
   "metadata": {},
   "outputs": [],
   "source": [
    "\n",
    "# tgt = [Symbol(f't{i}') for i in range(N)]\n",
    "def pathIdentifierUltra(graph: Graph, flow: list, src: int, tgt: list):\n",
    "    # return a logic formula that determine whether it is a valid path\n",
    "    # Assume the graph has NO LOOP!\n",
    "    # from node src to tgt\n",
    "\n",
    "    # tgt = list of symbols\n",
    "    constraints = []\n",
    "    # include those constraints\n",
    "    \n",
    "    for i in range(graph.N):\n",
    "        for j in range(graph.N):\n",
    "            if(graph.Adj[i][j] == 1):\n",
    "                a = 1\n",
    "    \n",
    "    # how to recover the path?\n",
    "    return\n"
   ]
  }
 ],
 "metadata": {
  "kernelspec": {
   "display_name": "xor-lrt",
   "language": "python",
   "name": "python3"
  },
  "language_info": {
   "codemirror_mode": {
    "name": "ipython",
    "version": 3
   },
   "file_extension": ".py",
   "mimetype": "text/x-python",
   "name": "python",
   "nbconvert_exporter": "python",
   "pygments_lexer": "ipython3",
   "version": "3.9.17"
  },
  "orig_nbformat": 4
 },
 "nbformat": 4,
 "nbformat_minor": 2
}
