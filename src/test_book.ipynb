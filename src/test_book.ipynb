{
 "cells": [
  {
   "cell_type": "code",
   "execution_count": 1,
   "metadata": {},
   "outputs": [
    {
     "name": "stdout",
     "output_type": "stream",
     "text": [
      "And(Xor(z98, z97, z92, z91, z86, z84, z79, z78, z75, z99, z71, z67, z66, z65, z64, z29, z27, z46, z23, z58, z22, z43, z95, z30, z25, z18, z70, z17, z19, z40, z44, z10, z49, z94, z16, z57, z4, z53, z60, z32, z55, z37, z6, z45, z72, z48, z63, z51, z61), Xor(z93, z92, z85, z83, z82, z78, z99, z71, z67, z65, z55, z84, z54, z53, z50, z48, z80, z23, z68, z12, z34, z14, z19, z40, z44, z8, z95, z89, z30, z5, z13, z28, z9, z1, z52, z46, z22, z7, z69, z0, z62, z31, z24, z25, z94, z35, z33, z90, z36, z41, z29, z42, z6, z45), Xor(z98, z91, z90, z86, z85, z80, z78, z77, z74, z99, z71, z65, z18, z17, z64, z33, z39, z73, z20, z34, z27, z1, z52, z46, z51, z11, z12, z38, z21, z8, z19, z40, z0, z29, z62, z24, z31, z87, z37, z45, z41, z53, z16, z57, z58), Xnor(z92, z89, z88, z84, z82, z81, z78, z71, z68, z67, z61, z56, z51, z70, z17, z64, z33, z39, z11, z22, z4, z13, z9, z1, z27, z46, z15, z7, z72, z2, z0, z19, z96, z44, z18, z25, z47, z73, z60, z20, z23, z21, z29, z94, z57, z35, z10, z31, z87, z3, z37), Xor(z92, z91, z77, z71, z69, z67, z66, z64, z63, z59, z58, z27, z70, z17, z54, z9, z8, z85, z4, z53, z89, z5, z3, z25, z68, z38, z22, z43, z46, z15, z7, z74, z72, z2, z48, z28, z10, z31, z32, z50, z34, z94, z35, z90, z36, z40, z96, z44, z45))\n"
     ]
    }
   ],
   "source": [
    "import boolexpr as bx\n",
    "from xor_smt import gen_XOR_constraints\n",
    "\n",
    "ctx = bx.Context()\n",
    "\n",
    "a = ctx.get_var(f'a')\n",
    "b = ctx.get_var(f'b')\n",
    "c = ctx.get_var(f'c')\n",
    "z = [ctx.get_var(f'z{i}') for i in range(100)]\n",
    "one = bx.ONE\n",
    "zero = bx.ZERO\n",
    "\n",
    "one_ = 1\n",
    "\n",
    "const_xor = gen_XOR_constraints(z, 5)\n",
    "\n",
    "print(const_xor)\n",
    "\n",
    "const_xor.to_cnf()"
   ]
  },
  {
   "cell_type": "code",
   "execution_count": 4,
   "metadata": {},
   "outputs": [
    {
     "name": "stdout",
     "output_type": "stream",
     "text": [
      "0\n"
     ]
    }
   ],
   "source": [
    "from docplex.cp.model import CpoModel\n",
    "\n",
    "jmax = 0 # first \"1\" in a\n",
    "empty_row = False # a has 1, non empty\n",
    "\n",
    "indep_vars = [] # colums that has a \"1\"\n",
    "\n",
    "# those \"1\" locate at [indep_columns_rindex, indep_columns]\n",
    "\n",
    "# Gaussian Elimination before 465 lines\n",
    "\n",
    "# Then clean the each rows above till 478 lines\n",
    "\n",
    "# b is original b\n",
    "# y is random y\n",
    "\n",
    "print(1^1)"
   ]
  }
 ],
 "metadata": {
  "kernelspec": {
   "display_name": "xor-lrt",
   "language": "python",
   "name": "python3"
  },
  "language_info": {
   "codemirror_mode": {
    "name": "ipython",
    "version": 3
   },
   "file_extension": ".py",
   "mimetype": "text/x-python",
   "name": "python",
   "nbconvert_exporter": "python",
   "pygments_lexer": "ipython3",
   "version": "3.9.17"
  },
  "orig_nbformat": 4
 },
 "nbformat": 4,
 "nbformat_minor": 2
}
